{
 "cells": [
  {
   "cell_type": "markdown",
   "metadata": {},
   "source": [
    "# K-Nearest Neighbours (KNN)\n",
    "\n",
    "K-Neighbours is a **supervised classification algorithm**. Classification is the process of assigning samples into those groups. Given a set of groups, take a set of samples and mark each sample as being a member of a group. Each group being the correct answer, label, or classification of the sample.\n",
    "\n",
    "The K-Nearest Neighbours - or KNN - classifier, is one of the simplest machine learning algorithms.\n",
    "\n",
    "K-Nearest Neighbours works by first simply storing all of your training data samples.\n",
    "Then in the future, when you attempt to check the classification of a new, never-before seen sample, it finds the nearest \"K\" number of samples to it from within your training data. You must have numeric features in order for 'nearest' to be meaningful.  \n",
    "SciKit-Learn's K-Nearest Neighbours only supports numeric features, so you'll have to do whatever has to be done to get your data into that format before proceeding. The distance will be measures as a standard Euclidean.\n",
    "\n",
    "With the nearest neighbors found, K-Neighbours looks at their classes and takes a mode vote to assign a label to the new data point. Further extensions of K-Neighbours can take into account the distance to the samples to weigh their voting power.   \n",
    "Each new prediction or classification made, the algorithm has to again find the nearest neighbors to that sample in order to call a vote for it. This process is where a majority of the time is spent, so instead of using brute force to search the training data as if it were stored in a list, tree structures are used instead to optimize the search times. Due to this, the number of classes in dataset doesn't have a bearing on its execution speed. Only the number of records in your training data set."
   ]
  },
  {
   "cell_type": "markdown",
   "metadata": {},
   "source": [
    "#  A wheat example\n",
    "\n",
    "Yes, always the same example :D  \n",
    "  \n",
    "We do the usual data reading and pre-processing, concluding with normalisation and splitting the data into test and training datasets. \n",
    "\n",
    "## Read the data"
   ]
  },
  {
   "cell_type": "code",
   "execution_count": 35,
   "metadata": {},
   "outputs": [],
   "source": [
    "import pandas as pd"
   ]
  },
  {
   "cell_type": "code",
   "execution_count": 36,
   "metadata": {},
   "outputs": [
    {
     "data": {
      "text/html": [
       "<div>\n",
       "<style scoped>\n",
       "    .dataframe tbody tr th:only-of-type {\n",
       "        vertical-align: middle;\n",
       "    }\n",
       "\n",
       "    .dataframe tbody tr th {\n",
       "        vertical-align: top;\n",
       "    }\n",
       "\n",
       "    .dataframe thead th {\n",
       "        text-align: right;\n",
       "    }\n",
       "</style>\n",
       "<table border=\"1\" class=\"dataframe\">\n",
       "  <thead>\n",
       "    <tr style=\"text-align: right;\">\n",
       "      <th></th>\n",
       "      <th>area</th>\n",
       "      <th>perimeter</th>\n",
       "      <th>compactness</th>\n",
       "      <th>length</th>\n",
       "      <th>width</th>\n",
       "      <th>asymmetry</th>\n",
       "      <th>groove</th>\n",
       "      <th>wheat_type</th>\n",
       "    </tr>\n",
       "    <tr>\n",
       "      <th>id</th>\n",
       "      <th></th>\n",
       "      <th></th>\n",
       "      <th></th>\n",
       "      <th></th>\n",
       "      <th></th>\n",
       "      <th></th>\n",
       "      <th></th>\n",
       "      <th></th>\n",
       "    </tr>\n",
       "  </thead>\n",
       "  <tbody>\n",
       "    <tr>\n",
       "      <th>0</th>\n",
       "      <td>15.26</td>\n",
       "      <td>14.84</td>\n",
       "      <td>0.8710</td>\n",
       "      <td>5.763</td>\n",
       "      <td>3.312</td>\n",
       "      <td>2.221</td>\n",
       "      <td>5.220</td>\n",
       "      <td>kama</td>\n",
       "    </tr>\n",
       "    <tr>\n",
       "      <th>1</th>\n",
       "      <td>14.88</td>\n",
       "      <td>14.57</td>\n",
       "      <td>0.8811</td>\n",
       "      <td>5.554</td>\n",
       "      <td>3.333</td>\n",
       "      <td>1.018</td>\n",
       "      <td>4.956</td>\n",
       "      <td>kama</td>\n",
       "    </tr>\n",
       "    <tr>\n",
       "      <th>2</th>\n",
       "      <td>14.29</td>\n",
       "      <td>14.09</td>\n",
       "      <td>0.9050</td>\n",
       "      <td>5.291</td>\n",
       "      <td>3.337</td>\n",
       "      <td>2.699</td>\n",
       "      <td>4.825</td>\n",
       "      <td>kama</td>\n",
       "    </tr>\n",
       "    <tr>\n",
       "      <th>3</th>\n",
       "      <td>13.84</td>\n",
       "      <td>13.94</td>\n",
       "      <td>0.8955</td>\n",
       "      <td>5.324</td>\n",
       "      <td>3.379</td>\n",
       "      <td>2.259</td>\n",
       "      <td>4.805</td>\n",
       "      <td>kama</td>\n",
       "    </tr>\n",
       "    <tr>\n",
       "      <th>4</th>\n",
       "      <td>16.14</td>\n",
       "      <td>14.99</td>\n",
       "      <td>0.9034</td>\n",
       "      <td>5.658</td>\n",
       "      <td>3.562</td>\n",
       "      <td>1.355</td>\n",
       "      <td>5.175</td>\n",
       "      <td>kama</td>\n",
       "    </tr>\n",
       "  </tbody>\n",
       "</table>\n",
       "</div>"
      ],
      "text/plain": [
       "     area  perimeter  compactness  length  width  asymmetry  groove wheat_type\n",
       "id                                                                            \n",
       "0   15.26      14.84       0.8710   5.763  3.312      2.221   5.220       kama\n",
       "1   14.88      14.57       0.8811   5.554  3.333      1.018   4.956       kama\n",
       "2   14.29      14.09       0.9050   5.291  3.337      2.699   4.825       kama\n",
       "3   13.84      13.94       0.8955   5.324  3.379      2.259   4.805       kama\n",
       "4   16.14      14.99       0.9034   5.658  3.562      1.355   5.175       kama"
      ]
     },
     "execution_count": 36,
     "metadata": {},
     "output_type": "execute_result"
    }
   ],
   "source": [
    "# \n",
    "# Load up the dataset into a variable called X. \n",
    "#\n",
    "X = pd.read_csv(\"/Users/hiro0x/Documents/alphaprime/ai-ml-data/classification/wheat.data\", index_col='id')\n",
    "X.head()\n"
   ]
  },
  {
   "cell_type": "markdown",
   "metadata": {},
   "source": [
    "## Data pre-processing\n",
    "\n",
    "First we separate the target variable"
   ]
  },
  {
   "cell_type": "code",
   "execution_count": 37,
   "metadata": {},
   "outputs": [],
   "source": [
    "#\n",
    "# Copy the 'wheat_type' series slice out of X, and into a series\n",
    "# called 'y'. Then drop the original 'wheat_type' column from the X\n",
    "#\n",
    "y = X.wheat_type.copy()\n",
    "X.drop(['wheat_type'], axis=1, inplace=True)"
   ]
  },
  {
   "cell_type": "code",
   "execution_count": 38,
   "metadata": {},
   "outputs": [],
   "source": [
    "y_original = y"
   ]
  },
  {
   "cell_type": "code",
   "execution_count": 39,
   "metadata": {},
   "outputs": [],
   "source": [
    "# Do a quick, \"ordinal\" conversion of 'y'. \n",
    "#\n",
    "y = y.astype(\"category\").cat.codes"
   ]
  },
  {
   "cell_type": "markdown",
   "metadata": {},
   "source": [
    "Fix the invalid values"
   ]
  },
  {
   "cell_type": "code",
   "execution_count": 40,
   "metadata": {},
   "outputs": [],
   "source": [
    "#\n",
    "# Basic nan munging. Fill each row's nans with the mean of the feature\n",
    "#\n",
    "X.fillna(X.mean(), inplace=True)"
   ]
  },
  {
   "cell_type": "markdown",
   "metadata": {},
   "source": [
    "Split the data into training and testing datasets"
   ]
  },
  {
   "cell_type": "code",
   "execution_count": 41,
   "metadata": {},
   "outputs": [],
   "source": [
    "from sklearn.model_selection import train_test_split\n",
    "\n",
    "#\n",
    "# Split X into training and testing data sets\n",
    "#\n",
    "X_train, X_test, y_train, y_test = train_test_split(X, y, test_size=0.33, \n",
    "                                                    random_state=1)"
   ]
  },
  {
   "cell_type": "markdown",
   "metadata": {},
   "source": [
    "## Data normalisation"
   ]
  },
  {
   "cell_type": "code",
   "execution_count": 42,
   "metadata": {},
   "outputs": [],
   "source": [
    "from sklearn import preprocessing\n",
    "\n",
    "# \n",
    "# Create an instance of SKLearn's Normalizer class and then train it\n",
    "# using its .fit() method against the *training* data.\n",
    "#\n",
    "#\n",
    "normaliser = preprocessing.Normalizer().fit(X_train)"
   ]
  },
  {
   "cell_type": "code",
   "execution_count": 43,
   "metadata": {},
   "outputs": [],
   "source": [
    "#\n",
    "# With the trained pre-processor, transform both training AND\n",
    "# testing data.\n",
    "#\n",
    "# NOTE: Any testing data has to be transformed with the preprocessor\n",
    "# that has been fit against the training data, so that it exist in the same\n",
    "# feature-space as the original data used to train the models.\n",
    "#\n",
    "X_train_normalised = normaliser.transform(X_train)\n",
    "X_train = pd.DataFrame(X_train_normalised)\n",
    "\n",
    "X_test_normalised = normaliser.transform(X_test)\n",
    "X_test = pd.DataFrame(X_test_normalised)"
   ]
  },
  {
   "cell_type": "markdown",
   "metadata": {},
   "source": [
    "## Apply PCA\n",
    "\n",
    "Finally apply a PCA transformation.  \n",
    "\n",
    "This has to be done because the only way to visualise the decision boundary in 2D would be if the KNN algorithm ran in 2D as well.  \n",
    "Note that removing the PCA will improve the accuracy (KNeighbours is applied to the entire train data, not just the two principal components)."
   ]
  },
  {
   "cell_type": "code",
   "execution_count": 44,
   "metadata": {},
   "outputs": [],
   "source": [
    "from sklearn.decomposition import PCA\n",
    "\n",
    "#\n",
    "# Just like the preprocessing transformation, create a PCA\n",
    "# transformation as well. Fit it against the training data, and then\n",
    "# project the training and testing features into PCA space using the\n",
    "# PCA model's .transform() method.\n",
    "#\n",
    "#\n",
    "\n",
    "pca_reducer = PCA(n_components=2).fit(X_train_normalised)\n",
    "\n",
    "X_train_pca = pca_reducer.transform(X_train_normalised)\n",
    "X_test_pca = pca_reducer.transform(X_test_normalised)"
   ]
  },
  {
   "cell_type": "markdown",
   "metadata": {},
   "source": [
    "## KNN algorithm\n",
    "\n",
    "Now we finally apply the K-neighbours algorithm, using the related module from SKlearn.\n",
    "\n",
    "For K-Neighbours, generally **the higher your \"K\" value, the smoother and less jittery your decision surface becomes**. Higher K values also result in your model providing probabilistic information about the ratio of samples per each class. There is a tradeoff though, as higher K values mean the algorithm is less sensitive to local fluctuations since farther samples are taken into account. This causes it to only model the overall classification function without much attention to detail, and increases the computational complexity of the classification.\n",
    "\n",
    "We use here K = 9"
   ]
  },
  {
   "cell_type": "code",
   "execution_count": null,
   "metadata": {},
   "outputs": [],
   "source": [
    "from sklearn.neighbors import KNeighborsClassifier\n",
    "\n",
    "#\n",
    "# Create and train a KNeighborsClassifier. Start with K=9 neighbors.\n",
    "# NOTE: Be sure to train the classifier against the pre-processed, PCA-\n",
    "# transformed training data above! \n",
    "#\n",
    "knn = KNeighborsClassifier(n_neighbors=9)\n",
    "knn.fit(X_train_pca, y_train) "
   ]
  },
  {
   "cell_type": "markdown",
   "metadata": {},
   "source": [
    "## Decision Boundaries\n",
    "A unique feature of supervised classification algorithms are their decision boundaries, or more generally, their n-dimensional decision surface: a threshold or region where if superseded, will result in your sample being assigned that class.\n",
    "\n",
    "The decision surface isn't always spherical. In fact, it can take many different types of shapes depending on the algorithm that generated it.\n"
   ]
  },
  {
   "cell_type": "markdown",
   "metadata": {},
   "source": [
    "Let's prepare a function to plot the decision boundaries, that we can use for other examples, later"
   ]
  },
  {
   "cell_type": "code",
   "execution_count": 46,
   "metadata": {},
   "outputs": [],
   "source": [
    "import matplotlib.pyplot as plt\n",
    "import matplotlib\n",
    "\n",
    "matplotlib.style.use('ggplot') # Look Pretty\n"
   ]
  },
  {
   "cell_type": "code",
   "execution_count": 47,
   "metadata": {},
   "outputs": [],
   "source": [
    "import numpy as np\n"
   ]
  },
  {
   "cell_type": "code",
   "execution_count": 48,
   "metadata": {},
   "outputs": [],
   "source": [
    "def plotDecisionBoundary(model, X, y, colors, padding=0.6, resolution = 0.0025):\n",
    "    \n",
    "  fig = plt.figure(figsize=(8,6))\n",
    "  ax = fig.add_subplot(111)\n",
    "\n",
    "\n",
    "  # Calculate the boundaries\n",
    "  x_min, x_max = X[:, 0].min(), X[:, 0].max()\n",
    "  y_min, y_max = X[:, 1].min(), X[:, 1].max()\n",
    "  x_range = x_max - x_min\n",
    "  y_range = y_max - y_min\n",
    "  x_min -= x_range * padding\n",
    "  y_min -= y_range * padding\n",
    "  x_max += x_range * padding\n",
    "  y_max += y_range * padding\n",
    "\n",
    "\n",
    "  # Create a 2D Grid Matrix. The values stored in the matrix\n",
    "  # are the predictions of the class at at said location\n",
    "  xx, yy = np.meshgrid(np.arange(x_min, x_max, resolution),\n",
    "                       np.arange(y_min, y_max, resolution))\n",
    "\n",
    "  # What class does the classifier say?\n",
    "  Z = model.predict(np.c_[xx.ravel(), yy.ravel()])\n",
    "  Z = Z.reshape(xx.shape)\n",
    "\n",
    "  # Plot the contour map using the rainbow colourmap\n",
    "  #cs = plt.contourf(xx, yy, Z, cmap=plt.cm.rainbow)\n",
    "  ax.contourf(xx, yy, Z, cmap=plt.cm.rainbow)\n",
    "  fig.tight_layout(pad=2)\n",
    "\n",
    "  # Plot the testing original points as well...\n",
    "  for label in np.unique(y):\n",
    "    indices = np.where(y == label)\n",
    "    ax.scatter(X[indices, 0], X[indices, 1], c=colors[label], alpha=0.8)\n",
    "\n",
    "  # print the title\n",
    "  p = model.get_params()\n",
    "  fig.suptitle('Decision boundaries, K = ' + str(p['n_neighbors']))"
   ]
  },
  {
   "cell_type": "markdown",
   "metadata": {},
   "source": [
    "Just a reminder: these are the wheat labels:"
   ]
  },
  {
   "cell_type": "code",
   "execution_count": 49,
   "metadata": {},
   "outputs": [
    {
     "name": "stdout",
     "output_type": "stream",
     "text": [
      "canadian\n",
      "kama\n",
      "rosa\n"
     ]
    }
   ],
   "source": [
    "for label in np.unique(y_original):\n",
    "    print (label)"
   ]
  },
  {
   "cell_type": "code",
   "execution_count": 50,
   "metadata": {},
   "outputs": [
    {
     "data": {
      "image/png": "[encoded data removed]",
      "text/plain": [
       "<Figure size 576x432 with 1 Axes>"
      ]
     },
     "metadata": {},
     "output_type": "display_data"
    }
   ],
   "source": [
    "myColours = ['royalblue','forestgreen','ghostwhite']\n",
    "\n",
    "plotDecisionBoundary(knn, X_train_pca, y_train, colors =  myColours)"
   ]
  },
  {
   "cell_type": "markdown",
   "metadata": {},
   "source": [
    "The KNN (with K=9) algorithm divided the space into three clusters, one for each wheat type.  \n",
    "The clusters fit quite well the testing data but not perfectly, some data points are mis-classified."
   ]
  },
  {
   "cell_type": "code",
   "execution_count": 51,
   "metadata": {},
   "outputs": [
    {
     "name": "stdout",
     "output_type": "stream",
     "text": [
      "0.8714285714285714\n"
     ]
    }
   ],
   "source": [
    "#\n",
    "# Display the accuracy score of the test data/labels, computed by\n",
    "# the KNeighbors model.\n",
    "#\n",
    "# NOTE: You do NOT have to run .predict before calling .score, since\n",
    "# .score will take care of running the predictions automatically.\n",
    "#\n",
    "print(knn.score(X_test_pca, y_test))\n"
   ]
  },
  {
   "cell_type": "markdown",
   "metadata": {},
   "source": [
    "\n",
    "K-Neighbours is particularly useful when no other model fits your data well, as it is **a parameter free** approach to classification. So for example, you don't have to worry about things like your data being linearly separable or not.\n",
    "\n",
    "Some of the caution-points to keep in mind while using K-Neighbours is that your data needs to be measurable. If there is no metric for discerning distance between your features, K-Neighbours cannot help you. As with all algorithms dependent on distance measures, it is also sensitive to feature scaling, to perturbations and the local structure of your dataset, particularly at lower \"K\" values."
   ]
  },
  {
   "cell_type": "markdown",
   "metadata": {},
   "source": [
    "# KNN with hyper-parameters\n",
    "\n",
    "We now explore deeper how the algorithm's parameters impact it, using as an example a dataset to classify a breast tumor as benign or malign.  \n",
    "\n",
    "Breast cancer doesn't develop over night and, like any other cancer, can be treated extremely effectively if detected in its earlier stages. Part of the understanding cancer is knowing that not all irregular cell growths are malignant; some are benign, or non-dangerous, non-cancerous growths.   \n",
    "Being able to properly assess if a tumor is actually benign and ignorable, or malignant and alarming is therefore of importance, and also is a problem that might be solvable through data and machine learning.\n",
    "Using the Breast Cancer Wisconsin Original data set, provided courtesy of [UCI's Machine Learning Repository](https://archive.ics.uci.edu/ml/datasets/Breast+Cancer+Wisconsin+(Original))\n",
    "\n",
    "## Read the data\n"
   ]
  },
  {
   "cell_type": "code",
   "execution_count": 52,
   "metadata": {},
   "outputs": [],
   "source": [
    "# \n",
    "# Load in the dataset, identify nans, and set proper headers.\n",
    "#\n",
    "X = pd.read_csv(\"/Users/hiro0x/Documents/alphaprime/ai-ml-data/classification/breast-cancer-wisconsin.data\", header=None,\n",
    "                 names=['sample', 'thickness', 'size', 'shape', 'adhesion', \n",
    "                        'epithelial', 'nuclei', 'chromatin', 'nucleoli', \n",
    "                        'mitoses', 'status'], index_col='sample', na_values='?')\n"
   ]
  },
  {
   "cell_type": "code",
   "execution_count": 53,
   "metadata": {},
   "outputs": [
    {
     "data": {
      "text/html": [
       "<div>\n",
       "<style scoped>\n",
       "    .dataframe tbody tr th:only-of-type {\n",
       "        vertical-align: middle;\n",
       "    }\n",
       "\n",
       "    .dataframe tbody tr th {\n",
       "        vertical-align: top;\n",
       "    }\n",
       "\n",
       "    .dataframe thead th {\n",
       "        text-align: right;\n",
       "    }\n",
       "</style>\n",
       "<table border=\"1\" class=\"dataframe\">\n",
       "  <thead>\n",
       "    <tr style=\"text-align: right;\">\n",
       "      <th></th>\n",
       "      <th>thickness</th>\n",
       "      <th>size</th>\n",
       "      <th>shape</th>\n",
       "      <th>adhesion</th>\n",
       "      <th>epithelial</th>\n",
       "      <th>nuclei</th>\n",
       "      <th>chromatin</th>\n",
       "      <th>nucleoli</th>\n",
       "      <th>mitoses</th>\n",
       "      <th>status</th>\n",
       "    </tr>\n",
       "    <tr>\n",
       "      <th>sample</th>\n",
       "      <th></th>\n",
       "      <th></th>\n",
       "      <th></th>\n",
       "      <th></th>\n",
       "      <th></th>\n",
       "      <th></th>\n",
       "      <th></th>\n",
       "      <th></th>\n",
       "      <th></th>\n",
       "      <th></th>\n",
       "    </tr>\n",
       "  </thead>\n",
       "  <tbody>\n",
       "    <tr>\n",
       "      <th>1000025</th>\n",
       "      <td>5</td>\n",
       "      <td>1</td>\n",
       "      <td>1</td>\n",
       "      <td>1</td>\n",
       "      <td>2</td>\n",
       "      <td>1.0</td>\n",
       "      <td>3</td>\n",
       "      <td>1</td>\n",
       "      <td>1</td>\n",
       "      <td>2</td>\n",
       "    </tr>\n",
       "    <tr>\n",
       "      <th>1002945</th>\n",
       "      <td>5</td>\n",
       "      <td>4</td>\n",
       "      <td>4</td>\n",
       "      <td>5</td>\n",
       "      <td>7</td>\n",
       "      <td>10.0</td>\n",
       "      <td>3</td>\n",
       "      <td>2</td>\n",
       "      <td>1</td>\n",
       "      <td>2</td>\n",
       "    </tr>\n",
       "    <tr>\n",
       "      <th>1015425</th>\n",
       "      <td>3</td>\n",
       "      <td>1</td>\n",
       "      <td>1</td>\n",
       "      <td>1</td>\n",
       "      <td>2</td>\n",
       "      <td>2.0</td>\n",
       "      <td>3</td>\n",
       "      <td>1</td>\n",
       "      <td>1</td>\n",
       "      <td>2</td>\n",
       "    </tr>\n",
       "    <tr>\n",
       "      <th>1016277</th>\n",
       "      <td>6</td>\n",
       "      <td>8</td>\n",
       "      <td>8</td>\n",
       "      <td>1</td>\n",
       "      <td>3</td>\n",
       "      <td>4.0</td>\n",
       "      <td>3</td>\n",
       "      <td>7</td>\n",
       "      <td>1</td>\n",
       "      <td>2</td>\n",
       "    </tr>\n",
       "    <tr>\n",
       "      <th>1017023</th>\n",
       "      <td>4</td>\n",
       "      <td>1</td>\n",
       "      <td>1</td>\n",
       "      <td>3</td>\n",
       "      <td>2</td>\n",
       "      <td>1.0</td>\n",
       "      <td>3</td>\n",
       "      <td>1</td>\n",
       "      <td>1</td>\n",
       "      <td>2</td>\n",
       "    </tr>\n",
       "  </tbody>\n",
       "</table>\n",
       "</div>"
      ],
      "text/plain": [
       "         thickness  size  shape  adhesion  epithelial  nuclei  chromatin  \\\n",
       "sample                                                                     \n",
       "1000025          5     1      1         1           2     1.0          3   \n",
       "1002945          5     4      4         5           7    10.0          3   \n",
       "1015425          3     1      1         1           2     2.0          3   \n",
       "1016277          6     8      8         1           3     4.0          3   \n",
       "1017023          4     1      1         3           2     1.0          3   \n",
       "\n",
       "         nucleoli  mitoses  status  \n",
       "sample                              \n",
       "1000025         1        1       2  \n",
       "1002945         2        1       2  \n",
       "1015425         1        1       2  \n",
       "1016277         7        1       2  \n",
       "1017023         1        1       2  "
      ]
     },
     "execution_count": 53,
     "metadata": {},
     "output_type": "execute_result"
    }
   ],
   "source": [
    "X.head()"
   ]
  },
  {
   "cell_type": "markdown",
   "metadata": {},
   "source": [
    "## Data Pre-processing\n",
    "\n",
    "Extract the target values, remove all NaN values and split into testing and training data"
   ]
  },
  {
   "cell_type": "code",
   "execution_count": 54,
   "metadata": {},
   "outputs": [],
   "source": [
    "# \n",
    "# Copy out the status column into a slice, then drop it from the main\n",
    "# dataframe. \n",
    "#\n",
    "#\n",
    "y = X.status.copy()\n",
    "X.drop(['status'], axis=1, inplace=True)"
   ]
  },
  {
   "cell_type": "code",
   "execution_count": 55,
   "metadata": {},
   "outputs": [
    {
     "name": "stdout",
     "output_type": "stream",
     "text": [
      "Preprocessing data: substituted all NaN with mean value\n"
     ]
    }
   ],
   "source": [
    "#\n",
    "# With the labels safely extracted from the dataset, replace any nan values\n",
    "# with the mean feature / column value\n",
    "#\n",
    "if X.isnull().values.any() == True:\n",
    "  print(\"Preprocessing data: substituted all NaN with mean value\")\n",
    "  X.fillna(X.mean(), inplace=True)\n",
    "else:\n",
    "  print(\"Preprocessing data: No NaN found!\")"
   ]
  },
  {
   "cell_type": "code",
   "execution_count": 56,
   "metadata": {},
   "outputs": [],
   "source": [
    "#\n",
    "# Do train_test_split. set the random_state=7 for reproduceability, and keep\n",
    "# the test_size at 0.5 (50%).\n",
    "#\n",
    "X_train, X_test, y_train, y_test = train_test_split(X, y, \n",
    "                                                    test_size=0.5, random_state=7)\n"
   ]
  },
  {
   "cell_type": "markdown",
   "metadata": {},
   "source": [
    "## Define hyper-parameters.\n",
    "\n",
    "We will loop the KNN algorithm with different parameters, specifically:  \n",
    "\n",
    "- different scalers for normalisation\n",
    "- reduced or not reduced (here PCA but can also use isomap for reduction)\n",
    "- different weight function\n",
    "- and different values of K"
   ]
  },
  {
   "cell_type": "code",
   "execution_count": 57,
   "metadata": {},
   "outputs": [],
   "source": [
    "# automate the tuning of hyper-parameters using for-loops to traverse the search space. \n",
    "reducers = [False, True]\n",
    "weights = ['uniform', 'distance']\n",
    "\n",
    "# Experiment with the basic SKLearn preprocessing scalers. We know that\n",
    "# the features consist of different units mixed in together, so it might be\n",
    "# reasonable to assume feature scaling is necessary.\n",
    "scalers = [preprocessing.Normalizer, preprocessing.StandardScaler,\n",
    "           preprocessing.MinMaxScaler, preprocessing.RobustScaler]\n"
   ]
  },
  {
   "cell_type": "code",
   "execution_count": 58,
   "metadata": {},
   "outputs": [],
   "source": [
    "from sklearn.decomposition import PCA\n",
    "from sklearn import manifold\n"
   ]
  },
  {
   "cell_type": "markdown",
   "metadata": {},
   "source": [
    "## Hyper-parameters tuning\n",
    "Loop through all the parameters: fit the model and print the result every time "
   ]
  },
  {
   "cell_type": "code",
   "execution_count": 59,
   "metadata": {},
   "outputs": [
    {
     "name": "stdout",
     "output_type": "stream",
     "text": [
      "*** Starting K-neighbours classifier\n",
      "--------------------------------------\n",
      "* Scaler =  <class 'sklearn.preprocessing._data.Normalizer'>\n",
      "PCA?  | K  | Weight | Score\n",
      "--------------------------------------\n",
      "False | 1 | uniform | 0.82\n",
      "False | 1 | distance | 0.82\n",
      "False | 2 | uniform | 0.8057142857142857\n",
      "False | 2 | distance | 0.82\n",
      "False | 3 | uniform | 0.8342857142857143\n",
      "False | 3 | distance | 0.8314285714285714\n",
      "False | 4 | uniform | 0.8285714285714286\n",
      "False | 4 | distance | 0.82\n",
      "False | 5 | uniform | 0.8342857142857143\n",
      "False | 5 | distance | 0.8314285714285714\n",
      "False | 6 | uniform | 0.8342857142857143\n",
      "False | 6 | distance | 0.8342857142857143\n",
      "False | 7 | uniform | 0.8457142857142858\n",
      "False | 7 | distance | 0.8428571428571429\n",
      "False | 8 | uniform | 0.84\n",
      "False | 8 | distance | 0.8428571428571429\n",
      "False | 9 | uniform | 0.8485714285714285\n",
      "False | 9 | distance | 0.8428571428571429\n",
      "False | 10 | uniform | 0.8428571428571429\n",
      "False | 10 | distance | 0.84\n",
      "False | 11 | uniform | 0.84\n",
      "False | 11 | distance | 0.8371428571428572\n",
      "False | 12 | uniform | 0.8428571428571429\n",
      "False | 12 | distance | 0.84\n",
      "False | 13 | uniform | 0.8514285714285714\n",
      "False | 13 | distance | 0.8428571428571429\n",
      "False | 14 | uniform | 0.8485714285714285\n",
      "False | 14 | distance | 0.8428571428571429\n",
      "False | 15 | uniform | 0.8485714285714285\n",
      "False | 15 | distance | 0.84\n",
      "True | 1 | uniform | 0.8171428571428572\n",
      "True | 1 | distance | 0.8171428571428572\n",
      "True | 2 | uniform | 0.7942857142857143\n",
      "True | 2 | distance | 0.8171428571428572\n",
      "True | 3 | uniform | 0.8342857142857143\n",
      "True | 3 | distance | 0.8285714285714286\n",
      "True | 4 | uniform | 0.8228571428571428\n",
      "True | 4 | distance | 0.8342857142857143\n",
      "True | 5 | uniform | 0.8342857142857143\n",
      "True | 5 | distance | 0.84\n",
      "True | 6 | uniform | 0.8314285714285714\n",
      "True | 6 | distance | 0.8514285714285714\n",
      "True | 7 | uniform | 0.8371428571428572\n",
      "True | 7 | distance | 0.8428571428571429\n",
      "True | 8 | uniform | 0.8371428571428572\n",
      "True | 8 | distance | 0.84\n",
      "True | 9 | uniform | 0.8428571428571429\n",
      "True | 9 | distance | 0.8428571428571429\n",
      "True | 10 | uniform | 0.8428571428571429\n",
      "True | 10 | distance | 0.8428571428571429\n",
      "True | 11 | uniform | 0.8457142857142858\n",
      "True | 11 | distance | 0.8485714285714285\n",
      "True | 12 | uniform | 0.8314285714285714\n",
      "True | 12 | distance | 0.8428571428571429\n",
      "True | 13 | uniform | 0.8457142857142858\n",
      "True | 13 | distance | 0.8457142857142858\n",
      "True | 14 | uniform | 0.8485714285714285\n",
      "True | 14 | distance | 0.8485714285714285\n",
      "True | 15 | uniform | 0.8571428571428571\n",
      "True | 15 | distance | 0.8542857142857143\n",
      "* Scaler =  <class 'sklearn.preprocessing._data.StandardScaler'>\n",
      "PCA?  | K  | Weight | Score\n",
      "--------------------------------------\n",
      "False | 1 | uniform | 0.9428571428571428\n",
      "False | 1 | distance | 0.9428571428571428\n",
      "False | 2 | uniform | 0.9371428571428572\n",
      "False | 2 | distance | 0.9428571428571428\n",
      "False | 3 | uniform | 0.9428571428571428\n",
      "False | 3 | distance | 0.9457142857142857\n",
      "False | 4 | uniform | 0.9428571428571428\n",
      "False | 4 | distance | 0.9428571428571428\n",
      "False | 5 | uniform | 0.9571428571428572\n",
      "False | 5 | distance | 0.9514285714285714\n",
      "False | 6 | uniform | 0.9542857142857143\n",
      "False | 6 | distance | 0.9514285714285714\n",
      "False | 7 | uniform | 0.9542857142857143\n",
      "False | 7 | distance | 0.9514285714285714\n",
      "False | 8 | uniform | 0.9514285714285714\n",
      "False | 8 | distance | 0.9542857142857143\n",
      "False | 9 | uniform | 0.9542857142857143\n",
      "False | 9 | distance | 0.9514285714285714\n",
      "False | 10 | uniform | 0.9514285714285714\n",
      "False | 10 | distance | 0.9542857142857143\n",
      "False | 11 | uniform | 0.9542857142857143\n",
      "False | 11 | distance | 0.9514285714285714\n",
      "False | 12 | uniform | 0.9514285714285714\n",
      "False | 12 | distance | 0.9542857142857143\n",
      "False | 13 | uniform | 0.9542857142857143\n",
      "False | 13 | distance | 0.9514285714285714\n",
      "False | 14 | uniform | 0.9514285714285714\n",
      "False | 14 | distance | 0.9514285714285714\n",
      "False | 15 | uniform | 0.9542857142857143\n",
      "False | 15 | distance | 0.9514285714285714\n",
      "True | 1 | uniform | 0.9428571428571428\n",
      "True | 1 | distance | 0.9428571428571428\n",
      "True | 2 | uniform | 0.94\n",
      "True | 2 | distance | 0.9428571428571428\n",
      "True | 3 | uniform | 0.9514285714285714\n",
      "True | 3 | distance | 0.9485714285714286\n",
      "True | 4 | uniform | 0.9485714285714286\n",
      "True | 4 | distance | 0.9514285714285714\n",
      "True | 5 | uniform | 0.9571428571428572\n",
      "True | 5 | distance | 0.9542857142857143\n",
      "True | 6 | uniform | 0.9571428571428572\n",
      "True | 6 | distance | 0.9571428571428572\n",
      "True | 7 | uniform | 0.9571428571428572\n",
      "True | 7 | distance | 0.9571428571428572\n",
      "True | 8 | uniform | 0.9571428571428572\n",
      "True | 8 | distance | 0.9571428571428572\n",
      "True | 9 | uniform | 0.9571428571428572\n",
      "True | 9 | distance | 0.9542857142857143\n",
      "True | 10 | uniform | 0.9571428571428572\n",
      "True | 10 | distance | 0.9542857142857143\n",
      "True | 11 | uniform | 0.9571428571428572\n",
      "True | 11 | distance | 0.9542857142857143\n",
      "True | 12 | uniform | 0.9571428571428572\n",
      "True | 12 | distance | 0.9571428571428572\n",
      "True | 13 | uniform | 0.9571428571428572\n",
      "True | 13 | distance | 0.9571428571428572\n",
      "True | 14 | uniform | 0.9571428571428572\n",
      "True | 14 | distance | 0.9571428571428572\n",
      "True | 15 | uniform | 0.9571428571428572\n",
      "True | 15 | distance | 0.9542857142857143\n",
      "* Scaler =  <class 'sklearn.preprocessing._data.MinMaxScaler'>\n",
      "PCA?  | K  | Weight | Score\n",
      "--------------------------------------\n",
      "False | 1 | uniform | 0.9514285714285714\n",
      "False | 1 | distance | 0.9514285714285714\n",
      "False | 2 | uniform | 0.9314285714285714\n",
      "False | 2 | distance | 0.9514285714285714\n",
      "False | 3 | uniform | 0.96\n",
      "False | 3 | distance | 0.96\n",
      "False | 4 | uniform | 0.9485714285714286\n",
      "False | 4 | distance | 0.9628571428571429\n",
      "False | 5 | uniform | 0.96\n",
      "False | 5 | distance | 0.96\n",
      "False | 6 | uniform | 0.9542857142857143\n",
      "False | 6 | distance | 0.96\n",
      "False | 7 | uniform | 0.9571428571428572\n",
      "False | 7 | distance | 0.9628571428571429\n",
      "False | 8 | uniform | 0.9571428571428572\n",
      "False | 8 | distance | 0.96\n",
      "False | 9 | uniform | 0.9571428571428572\n",
      "False | 9 | distance | 0.96\n",
      "False | 10 | uniform | 0.9514285714285714\n",
      "False | 10 | distance | 0.9571428571428572\n",
      "False | 11 | uniform | 0.9571428571428572\n",
      "False | 11 | distance | 0.9571428571428572\n",
      "False | 12 | uniform | 0.9542857142857143\n",
      "False | 12 | distance | 0.9571428571428572\n",
      "False | 13 | uniform | 0.9514285714285714\n",
      "False | 13 | distance | 0.9571428571428572\n",
      "False | 14 | uniform | 0.9542857142857143\n",
      "False | 14 | distance | 0.96\n",
      "False | 15 | uniform | 0.9542857142857143\n",
      "False | 15 | distance | 0.96\n",
      "True | 1 | uniform | 0.9457142857142857\n",
      "True | 1 | distance | 0.9457142857142857\n",
      "True | 2 | uniform | 0.9342857142857143\n",
      "True | 2 | distance | 0.9457142857142857\n",
      "True | 3 | uniform | 0.96\n",
      "True | 3 | distance | 0.9571428571428572\n",
      "True | 4 | uniform | 0.9514285714285714\n",
      "True | 4 | distance | 0.96\n",
      "True | 5 | uniform | 0.9657142857142857\n",
      "True | 5 | distance | 0.96\n",
      "True | 6 | uniform | 0.9657142857142857\n",
      "True | 6 | distance | 0.9628571428571429\n",
      "True | 7 | uniform | 0.9628571428571429\n",
      "True | 7 | distance | 0.9628571428571429\n",
      "True | 8 | uniform | 0.9628571428571429\n",
      "True | 8 | distance | 0.9685714285714285\n",
      "True | 9 | uniform | 0.9657142857142857\n",
      "True | 9 | distance | 0.9657142857142857\n",
      "True | 10 | uniform | 0.96\n",
      "True | 10 | distance | 0.9657142857142857\n",
      "True | 11 | uniform | 0.9657142857142857\n",
      "True | 11 | distance | 0.9657142857142857\n",
      "True | 12 | uniform | 0.96\n",
      "True | 12 | distance | 0.9657142857142857\n",
      "True | 13 | uniform | 0.96\n",
      "True | 13 | distance | 0.9657142857142857\n",
      "True | 14 | uniform | 0.9571428571428572\n",
      "True | 14 | distance | 0.9628571428571429\n",
      "True | 15 | uniform | 0.96\n",
      "True | 15 | distance | 0.9657142857142857\n",
      "* Scaler =  <class 'sklearn.preprocessing._data.RobustScaler'>\n",
      "PCA?  | K  | Weight | Score\n",
      "--------------------------------------\n",
      "False | 1 | uniform | 0.9457142857142857\n",
      "False | 1 | distance | 0.9457142857142857\n",
      "False | 2 | uniform | 0.9314285714285714\n",
      "False | 2 | distance | 0.9457142857142857\n",
      "False | 3 | uniform | 0.9485714285714286\n",
      "False | 3 | distance | 0.96\n",
      "False | 4 | uniform | 0.9428571428571428\n",
      "False | 4 | distance | 0.96\n",
      "False | 5 | uniform | 0.9542857142857143\n",
      "False | 5 | distance | 0.9571428571428572\n",
      "False | 6 | uniform | 0.9514285714285714\n",
      "False | 6 | distance | 0.9571428571428572\n",
      "False | 7 | uniform | 0.9571428571428572\n",
      "False | 7 | distance | 0.9571428571428572\n",
      "False | 8 | uniform | 0.9514285714285714\n",
      "False | 8 | distance | 0.9571428571428572\n",
      "False | 9 | uniform | 0.9514285714285714\n",
      "False | 9 | distance | 0.9571428571428572\n",
      "False | 10 | uniform | 0.9514285714285714\n",
      "False | 10 | distance | 0.96\n",
      "False | 11 | uniform | 0.9571428571428572\n",
      "False | 11 | distance | 0.96\n",
      "False | 12 | uniform | 0.9542857142857143\n",
      "False | 12 | distance | 0.9571428571428572\n",
      "False | 13 | uniform | 0.9542857142857143\n",
      "False | 13 | distance | 0.9571428571428572\n",
      "False | 14 | uniform | 0.9485714285714286\n",
      "False | 14 | distance | 0.9571428571428572\n",
      "False | 15 | uniform | 0.9514285714285714\n",
      "False | 15 | distance | 0.9571428571428572\n",
      "True | 1 | uniform | 0.94\n",
      "True | 1 | distance | 0.94\n",
      "True | 2 | uniform | 0.94\n",
      "True | 2 | distance | 0.94\n",
      "True | 3 | uniform | 0.96\n",
      "True | 3 | distance | 0.9542857142857143\n",
      "True | 4 | uniform | 0.9457142857142857\n",
      "True | 4 | distance | 0.9542857142857143\n",
      "True | 5 | uniform | 0.9571428571428572\n",
      "True | 5 | distance | 0.9571428571428572\n",
      "True | 6 | uniform | 0.9542857142857143\n",
      "True | 6 | distance | 0.9571428571428572\n",
      "True | 7 | uniform | 0.96\n",
      "True | 7 | distance | 0.9571428571428572\n",
      "True | 8 | uniform | 0.96\n",
      "True | 8 | distance | 0.9571428571428572\n",
      "True | 9 | uniform | 0.9628571428571429\n",
      "True | 9 | distance | 0.9571428571428572\n",
      "True | 10 | uniform | 0.96\n",
      "True | 10 | distance | 0.9571428571428572\n",
      "True | 11 | uniform | 0.9628571428571429\n",
      "True | 11 | distance | 0.9571428571428572\n",
      "True | 12 | uniform | 0.96\n",
      "True | 12 | distance | 0.9571428571428572\n",
      "True | 13 | uniform | 0.9628571428571429\n",
      "True | 13 | distance | 0.9571428571428572\n",
      "True | 14 | uniform | 0.96\n",
      "True | 14 | distance | 0.9571428571428572\n",
      "True | 15 | uniform | 0.96\n",
      "True | 15 | distance | 0.9571428571428572\n"
     ]
    }
   ],
   "source": [
    "# the f print function works from Python 3.6, you can use print otherwise\n",
    "separator = \"--------------------------------------\"\n",
    "print('*** Starting K-neighbours classifier')\n",
    "print(separator)\n",
    "\n",
    "bestScore = 0.0\n",
    "\n",
    "# outer loop: the scalers\n",
    "for scaler in scalers:\n",
    "  print(\"* Scaler = \", scaler)\n",
    "\n",
    "  scalerTrained = scaler().fit(X_train)\n",
    "  \n",
    "  X_train_scaled = scalerTrained.transform(X_train)\n",
    "  X_test_scaled  = scalerTrained.transform(X_test)\n",
    "  \n",
    "\n",
    "  print(\"PCA?  | K  | Weight | Score\")\n",
    "  print(separator)\n",
    "  \n",
    "  # next loop though PCA reduction or not\n",
    "    \n",
    "  reducer = None\n",
    "\n",
    "  for isPCA in reducers:\n",
    "    if isPCA:\n",
    "    #\n",
    "    # Implement PCA here: reduce down to two dimensions.\n",
    "    #\n",
    "      reducer = PCA(n_components=2).fit(X_train_scaled)\n",
    "\n",
    "    else:\n",
    "    #\n",
    "    # Implement Isomap here.  K values can be from 5 to 10.\n",
    "    # Reduce down to two dimensions.\n",
    "    #\n",
    "      reducer = manifold.Isomap(n_neighbors=10, n_components=2).fit(X_train_scaled)\n",
    "\n",
    "    # 2D transformation on both datasets\n",
    "    X_train_reduced = reducer.transform(X_train_scaled)\n",
    "    X_test_reduced  = reducer.transform(X_test_scaled)\n",
    "\n",
    "    # \n",
    "    # Implement and train KNeighborsClassifier on the projected 2D\n",
    "    # training data. You can use any K value from 1 - 15, so play around\n",
    "    # with it and see what results you can come up. Your goal is to find a\n",
    "    # good balance where you aren't too specific (low-K), nor are you too\n",
    "    # general (high-K). You should also experiment with how changing the weights\n",
    "    # parameter affects the results.\n",
    "    #\n",
    "    for k in range(1,16):\n",
    "        for weight in weights:\n",
    "\n",
    "            #\n",
    "            # Train the model against data_train. \n",
    "            #\n",
    "            knmodel = KNeighborsClassifier(n_neighbors = k, weights = weight)\n",
    "            knmodel.fit(X_train_reduced, y_train) \n",
    "            \n",
    "        \n",
    "# INFO: Be sure to always keep the domain of the problem in mind! It's\n",
    "# WAY more important to errantly classify a benign tumor as malignant,\n",
    "# and have it removed, than to incorrectly leave a malignant tumor, believing\n",
    "# it to be benign, and then having the patient progress in cancer. Since the UDF\n",
    "# weights don't give you any class information, the only way to introduce this\n",
    "# data into SKLearn's KNN Classifier is by \"baking\" it into your data. For\n",
    "# example, randomly reducing the ratio of benign samples compared to malignant\n",
    "# samples from the training set.\n",
    "\n",
    "#\n",
    "# Calculate + Print the accuracy of the testing set\n",
    "#\n",
    "            currentScore = knmodel.score(X_test_reduced, y_test)\n",
    "        \n",
    "            print(f\"{isPCA} | {k} | {weight} | {currentScore}\")\n",
    "    \n",
    "            # save the best model for plotting it later\n",
    "            if (currentScore > bestScore):\n",
    "                bestScore = currentScore\n",
    "                bestPCA = isPCA\n",
    "                bestK = k\n",
    "                bestWeight = weight\n",
    "                bestScaler = scaler"
   ]
  },
  {
   "cell_type": "markdown",
   "metadata": {},
   "source": [
    "## Re-apply the best parameters to the model"
   ]
  },
  {
   "cell_type": "code",
   "execution_count": 60,
   "metadata": {},
   "outputs": [
    {
     "name": "stdout",
     "output_type": "stream",
     "text": [
      "These are the best parameters for the model:\n",
      "PCA?  | K  | Weight | Scaler | Score\n",
      "True  | 8 | distance | <class 'sklearn.preprocessing._data.MinMaxScaler'> | 0.9685714285714285\n"
     ]
    }
   ],
   "source": [
    "print(\"These are the best parameters for the model:\")\n",
    "print(\"PCA?  | K  | Weight | Scaler | Score\")\n",
    "print(f\"{bestPCA}  | {bestK} | {bestWeight} | {bestScaler} | {bestScore}\")"
   ]
  },
  {
   "cell_type": "code",
   "execution_count": 61,
   "metadata": {},
   "outputs": [
    {
     "data": {
      "text/html": [
       "<style>#sk-container-id-3 {color: black;background-color: white;}#sk-container-id-3 pre{padding: 0;}#sk-container-id-3 div.sk-toggleable {background-color: white;}#sk-container-id-3 label.sk-toggleable__label {cursor: pointer;display: block;width: 100%;margin-bottom: 0;padding: 0.3em;box-sizing: border-box;text-align: center;}#sk-container-id-3 label.sk-toggleable__label-arrow:before {content: \"▸\";float: left;margin-right: 0.25em;color: #696969;}#sk-container-id-3 label.sk-toggleable__label-arrow:hover:before {color: black;}#sk-container-id-3 div.sk-estimator:hover label.sk-toggleable__label-arrow:before {color: black;}#sk-container-id-3 div.sk-toggleable__content {max-height: 0;max-width: 0;overflow: hidden;text-align: left;background-color: #f0f8ff;}#sk-container-id-3 div.sk-toggleable__content pre {margin: 0.2em;color: black;border-radius: 0.25em;background-color: #f0f8ff;}#sk-container-id-3 input.sk-toggleable__control:checked~div.sk-toggleable__content {max-height: 200px;max-width: 100%;overflow: auto;}#sk-container-id-3 input.sk-toggleable__control:checked~label.sk-toggleable__label-arrow:before {content: \"▾\";}#sk-container-id-3 div.sk-estimator input.sk-toggleable__control:checked~label.sk-toggleable__label {background-color: #d4ebff;}#sk-container-id-3 div.sk-label input.sk-toggleable__control:checked~label.sk-toggleable__label {background-color: #d4ebff;}#sk-container-id-3 input.sk-hidden--visually {border: 0;clip: rect(1px 1px 1px 1px);clip: rect(1px, 1px, 1px, 1px);height: 1px;margin: -1px;overflow: hidden;padding: 0;position: absolute;width: 1px;}#sk-container-id-3 div.sk-estimator {font-family: monospace;background-color: #f0f8ff;border: 1px dotted black;border-radius: 0.25em;box-sizing: border-box;margin-bottom: 0.5em;}#sk-container-id-3 div.sk-estimator:hover {background-color: #d4ebff;}#sk-container-id-3 div.sk-parallel-item::after {content: \"\";width: 100%;border-bottom: 1px solid gray;flex-grow: 1;}#sk-container-id-3 div.sk-label:hover label.sk-toggleable__label {background-color: #d4ebff;}#sk-container-id-3 div.sk-serial::before {content: \"\";position: absolute;border-left: 1px solid gray;box-sizing: border-box;top: 0;bottom: 0;left: 50%;z-index: 0;}#sk-container-id-3 div.sk-serial {display: flex;flex-direction: column;align-items: center;background-color: white;padding-right: 0.2em;padding-left: 0.2em;position: relative;}#sk-container-id-3 div.sk-item {position: relative;z-index: 1;}#sk-container-id-3 div.sk-parallel {display: flex;align-items: stretch;justify-content: center;background-color: white;position: relative;}#sk-container-id-3 div.sk-item::before, #sk-container-id-3 div.sk-parallel-item::before {content: \"\";position: absolute;border-left: 1px solid gray;box-sizing: border-box;top: 0;bottom: 0;left: 50%;z-index: -1;}#sk-container-id-3 div.sk-parallel-item {display: flex;flex-direction: column;z-index: 1;position: relative;background-color: white;}#sk-container-id-3 div.sk-parallel-item:first-child::after {align-self: flex-end;width: 50%;}#sk-container-id-3 div.sk-parallel-item:last-child::after {align-self: flex-start;width: 50%;}#sk-container-id-3 div.sk-parallel-item:only-child::after {width: 0;}#sk-container-id-3 div.sk-dashed-wrapped {border: 1px dashed gray;margin: 0 0.4em 0.5em 0.4em;box-sizing: border-box;padding-bottom: 0.4em;background-color: white;}#sk-container-id-3 div.sk-label label {font-family: monospace;font-weight: bold;display: inline-block;line-height: 1.2em;}#sk-container-id-3 div.sk-label-container {text-align: center;}#sk-container-id-3 div.sk-container {/* jupyter's `normalize.less` sets `[hidden] { display: none; }` but bootstrap.min.css set `[hidden] { display: none !important; }` so we also need the `!important` here to be able to override the default hidden behavior on the sphinx rendered scikit-learn.org. See: https://github.com/scikit-learn/scikit-learn/issues/21755 */display: inline-block !important;position: relative;}#sk-container-id-3 div.sk-text-repr-fallback {display: none;}</style><div id=\"sk-container-id-3\" class=\"sk-top-container\"><div class=\"sk-text-repr-fallback\"><pre>KNeighborsClassifier(n_neighbors=8, weights=&#x27;distance&#x27;)</pre><b>In a Jupyter environment, please rerun this cell to show the HTML representation or trust the notebook. <br />On GitHub, the HTML representation is unable to render, please try loading this page with nbviewer.org.</b></div><div class=\"sk-container\" hidden><div class=\"sk-item\"><div class=\"sk-estimator sk-toggleable\"><input class=\"sk-toggleable__control sk-hidden--visually\" id=\"sk-estimator-id-3\" type=\"checkbox\" checked><label for=\"sk-estimator-id-3\" class=\"sk-toggleable__label sk-toggleable__label-arrow\">KNeighborsClassifier</label><div class=\"sk-toggleable__content\"><pre>KNeighborsClassifier(n_neighbors=8, weights=&#x27;distance&#x27;)</pre></div></div></div></div></div>"
      ],
      "text/plain": [
       "KNeighborsClassifier(n_neighbors=8, weights='distance')"
      ]
     },
     "execution_count": 61,
     "metadata": {},
     "output_type": "execute_result"
    }
   ],
   "source": [
    "BestScalerTrained = bestScaler().fit(X_train)\n",
    "  \n",
    "X_train_scaled = BestScalerTrained.transform(X_train)\n",
    "X_test_scaled  = BestScalerTrained.transform(X_test)\n",
    "\n",
    "\n",
    "if isPCA:\n",
    "    #\n",
    "    # Implement PCA here. \n",
    "    # You should reduce down to two dimensions.\n",
    "    #\n",
    "    reducer = PCA(n_components=2).fit(X_train_scaled)\n",
    "\n",
    "else:\n",
    "    #\n",
    "    # Implement Isomap here.  K values from 5-10.\n",
    "    # You should reduce down to two dimensions.\n",
    "    #\n",
    "    reducer = manifold.Isomap(n_neighbors=10, n_components=2).fit(X_train_scaled)\n",
    "\n",
    "    #\n",
    "    # Train your model against data_train, then transform both\n",
    "    # data_train and data_test using your model. You can save the results right\n",
    "    # back into the variables themselves.\n",
    "    #\n",
    "X_train_reduced = reducer.transform(X_train_scaled)\n",
    "X_test_reduced  = reducer.transform(X_test_scaled)\n",
    "\n",
    "    # \n",
    "    # Implement and train KNeighborsClassifier on your projected 2D\n",
    "    # training data here. You can use any K value from 1 - 15, so play around\n",
    "    # with it and see what results you can come up. Your goal is to find a\n",
    "    # good balance where you aren't too specific (low-K), nor are you too\n",
    "    # general (high-K). You should also experiment with how changing the weights\n",
    "    # parameter affects the results.\n",
    "    #\n",
    "bestKnmodel = KNeighborsClassifier(n_neighbors = bestK, weights = bestWeight)\n",
    "bestKnmodel.fit(X_train_reduced, y_train) "
   ]
  },
  {
   "cell_type": "markdown",
   "metadata": {},
   "source": [
    "## Plotting the decision boundaries"
   ]
  },
  {
   "cell_type": "code",
   "execution_count": 62,
   "metadata": {},
   "outputs": [
    {
     "data": {
      "image/png": "[encoded data removed]",
      "text/plain": [
       "<Figure size 576x432 with 1 Axes>"
      ]
     },
     "metadata": {},
     "output_type": "display_data"
    }
   ],
   "source": [
    "# 2 for benign (blue colour), 4 for malignant (red colour)\n",
    "myColours = {2:'royalblue',4:'lightsalmon'} \n",
    "\n",
    "plotDecisionBoundary(bestKnmodel, X_test_reduced, y_test, colors =  myColours, padding = 0.1, resolution = 0.1)"
   ]
  },
  {
   "cell_type": "markdown",
   "metadata": {},
   "source": [
    "# Another example for KNN with reduction"
   ]
  },
  {
   "cell_type": "code",
   "execution_count": 64,
   "metadata": {},
   "outputs": [],
   "source": [
    "import scipy.io\n",
    "import math\n",
    "\n",
    "# Same datasets as in the PCA example!\n",
    "# load up the face_data.mat, calculate the\n",
    "# num_pixels value, and rotate the images to being right-side-up\n",
    "# instead of sideways.\n",
    "#\n",
    "mat = scipy.io.loadmat('/Users/hiro0x/Documents/alphaprime/ai-ml-data/classification/face_data.mat')\n",
    "df = pd.DataFrame(mat['images']).T\n",
    "num_images, num_pixels = df.shape\n",
    "num_pixels = int(math.sqrt(num_pixels))\n",
    "\n",
    "# Rotate the pictures, so we don't have to crane our necks:\n",
    "for i in range(num_images):\n",
    "  df.loc[i,:] = df.loc[i,:].values.reshape(num_pixels, num_pixels).T.reshape(-1)\n"
   ]
  },
  {
   "cell_type": "code",
   "execution_count": 66,
   "metadata": {},
   "outputs": [],
   "source": [
    "#\n",
    "# Load up the face_labels dataset. It only has a single column, and\n",
    "# we're only interested in that single column. We have to slice the \n",
    "# column out so that we have access to it as a \"Series\" rather than as a\n",
    "# \"Dataframe\".\n",
    "#\n",
    "labelsDF = pd.read_csv(\"/Users/hiro0x/Documents/alphaprime/ai-ml-data/classification/face_labels.csv\", header=None)\n",
    "labels = labelsDF.iloc[:,0]"
   ]
  },
  {
   "cell_type": "code",
   "execution_count": 67,
   "metadata": {},
   "outputs": [],
   "source": [
    "#\n",
    "# Do train_test_split. The labels are actually passed in as a series\n",
    "# (instead of as an NDArray) to access their underlying indices\n",
    "# later on. This is necessary to find the samples in the original\n",
    "# dataframe, which is used to plot the testing data as images rather\n",
    "# than as points:\n",
    "#\n",
    "data_train, data_test, label_train, label_test = train_test_split(df, labels, \n",
    "                                            test_size=0.15, random_state=7)"
   ]
  },
  {
   "cell_type": "code",
   "execution_count": 68,
   "metadata": {},
   "outputs": [],
   "source": [
    "# If you'd like to try with PCA instead of Isomap,\n",
    "# as the dimensionality reduction technique:\n",
    "Test_PCA = False"
   ]
  },
  {
   "cell_type": "code",
   "execution_count": 69,
   "metadata": {},
   "outputs": [],
   "source": [
    "if Test_PCA:\n",
    "  # INFO: PCA is used *before* KNeighbors to simplify the high dimensionality\n",
    "  # image samples down to just 2 principal components! A lot of information\n",
    "  # (variance) is lost during the process, as I'm sure you can imagine. But\n",
    "  # you have to drop the dimension down to two, otherwise you wouldn't be able\n",
    "  # to visualize a 2D decision surface / boundary. In the wild, you'd probably\n",
    "  # leave in a lot more dimensions, but wouldn't need to plot the boundary;\n",
    "  # simply checking the results would suffice.\n",
    "  #\n",
    "  # The model should only be trained (fit) against the training data (data_train)\n",
    "  # Once we've done this, we use the model to transform both data_train\n",
    "  # and data_test from their original high-D image feature space, down to 2D\n",
    "  # Finally, storing the results back into\n",
    "  # data_train and data_test.\n",
    "  \n",
    "  pca_reducer = PCA(n_components=2).fit(data_train)\n",
    "\n",
    "  data_train = pca_reducer.transform(data_train)\n",
    "  data_test  = pca_reducer.transform(data_test)\n",
    "  \n",
    "else:\n",
    "    \n",
    "  # INFO: Isomap is used *before* KNeighbors to simplify the high dimensionality\n",
    "  # image samples down to just 2 components! A lot of information has been is\n",
    "  # lost during the process, as I'm sure you can imagine. But if you have\n",
    "  # non-linear data that can be represented on a 2D manifold, you probably will\n",
    "  # be left with a far superior dataset to use for classification. Plus by\n",
    "  # having the images in 2D space, you can plot them as well as visualize a 2D\n",
    "  # decision surface / boundary. In the wild, you'd probably leave in a lot\n",
    "  # more dimensions, but wouldn't need to plot the boundary; simply checking\n",
    "  # the results would suffice.\n",
    "  #\n",
    "  # The model should only be trained (fit) against the training data (data_train)\n",
    "  # Once done this, we use the model to transform both data_train\n",
    "  # and data_test from their original high-D image feature space, down to 2D\n",
    "  # storing the results back into\n",
    "  # data_train, and data_test.\n",
    "  \n",
    "  iso_reducer = manifold.Isomap(n_neighbors=5, n_components=2).fit(data_train)\n",
    "  data_train = iso_reducer.transform(data_train)\n",
    "  data_test  = iso_reducer.transform(data_test)\n"
   ]
  },
  {
   "cell_type": "code",
   "execution_count": 70,
   "metadata": {},
   "outputs": [
    {
     "data": {
      "text/html": [
       "<style>#sk-container-id-4 {color: black;background-color: white;}#sk-container-id-4 pre{padding: 0;}#sk-container-id-4 div.sk-toggleable {background-color: white;}#sk-container-id-4 label.sk-toggleable__label {cursor: pointer;display: block;width: 100%;margin-bottom: 0;padding: 0.3em;box-sizing: border-box;text-align: center;}#sk-container-id-4 label.sk-toggleable__label-arrow:before {content: \"▸\";float: left;margin-right: 0.25em;color: #696969;}#sk-container-id-4 label.sk-toggleable__label-arrow:hover:before {color: black;}#sk-container-id-4 div.sk-estimator:hover label.sk-toggleable__label-arrow:before {color: black;}#sk-container-id-4 div.sk-toggleable__content {max-height: 0;max-width: 0;overflow: hidden;text-align: left;background-color: #f0f8ff;}#sk-container-id-4 div.sk-toggleable__content pre {margin: 0.2em;color: black;border-radius: 0.25em;background-color: #f0f8ff;}#sk-container-id-4 input.sk-toggleable__control:checked~div.sk-toggleable__content {max-height: 200px;max-width: 100%;overflow: auto;}#sk-container-id-4 input.sk-toggleable__control:checked~label.sk-toggleable__label-arrow:before {content: \"▾\";}#sk-container-id-4 div.sk-estimator input.sk-toggleable__control:checked~label.sk-toggleable__label {background-color: #d4ebff;}#sk-container-id-4 div.sk-label input.sk-toggleable__control:checked~label.sk-toggleable__label {background-color: #d4ebff;}#sk-container-id-4 input.sk-hidden--visually {border: 0;clip: rect(1px 1px 1px 1px);clip: rect(1px, 1px, 1px, 1px);height: 1px;margin: -1px;overflow: hidden;padding: 0;position: absolute;width: 1px;}#sk-container-id-4 div.sk-estimator {font-family: monospace;background-color: #f0f8ff;border: 1px dotted black;border-radius: 0.25em;box-sizing: border-box;margin-bottom: 0.5em;}#sk-container-id-4 div.sk-estimator:hover {background-color: #d4ebff;}#sk-container-id-4 div.sk-parallel-item::after {content: \"\";width: 100%;border-bottom: 1px solid gray;flex-grow: 1;}#sk-container-id-4 div.sk-label:hover label.sk-toggleable__label {background-color: #d4ebff;}#sk-container-id-4 div.sk-serial::before {content: \"\";position: absolute;border-left: 1px solid gray;box-sizing: border-box;top: 0;bottom: 0;left: 50%;z-index: 0;}#sk-container-id-4 div.sk-serial {display: flex;flex-direction: column;align-items: center;background-color: white;padding-right: 0.2em;padding-left: 0.2em;position: relative;}#sk-container-id-4 div.sk-item {position: relative;z-index: 1;}#sk-container-id-4 div.sk-parallel {display: flex;align-items: stretch;justify-content: center;background-color: white;position: relative;}#sk-container-id-4 div.sk-item::before, #sk-container-id-4 div.sk-parallel-item::before {content: \"\";position: absolute;border-left: 1px solid gray;box-sizing: border-box;top: 0;bottom: 0;left: 50%;z-index: -1;}#sk-container-id-4 div.sk-parallel-item {display: flex;flex-direction: column;z-index: 1;position: relative;background-color: white;}#sk-container-id-4 div.sk-parallel-item:first-child::after {align-self: flex-end;width: 50%;}#sk-container-id-4 div.sk-parallel-item:last-child::after {align-self: flex-start;width: 50%;}#sk-container-id-4 div.sk-parallel-item:only-child::after {width: 0;}#sk-container-id-4 div.sk-dashed-wrapped {border: 1px dashed gray;margin: 0 0.4em 0.5em 0.4em;box-sizing: border-box;padding-bottom: 0.4em;background-color: white;}#sk-container-id-4 div.sk-label label {font-family: monospace;font-weight: bold;display: inline-block;line-height: 1.2em;}#sk-container-id-4 div.sk-label-container {text-align: center;}#sk-container-id-4 div.sk-container {/* jupyter's `normalize.less` sets `[hidden] { display: none; }` but bootstrap.min.css set `[hidden] { display: none !important; }` so we also need the `!important` here to be able to override the default hidden behavior on the sphinx rendered scikit-learn.org. See: https://github.com/scikit-learn/scikit-learn/issues/21755 */display: inline-block !important;position: relative;}#sk-container-id-4 div.sk-text-repr-fallback {display: none;}</style><div id=\"sk-container-id-4\" class=\"sk-top-container\"><div class=\"sk-text-repr-fallback\"><pre>KNeighborsClassifier()</pre><b>In a Jupyter environment, please rerun this cell to show the HTML representation or trust the notebook. <br />On GitHub, the HTML representation is unable to render, please try loading this page with nbviewer.org.</b></div><div class=\"sk-container\" hidden><div class=\"sk-item\"><div class=\"sk-estimator sk-toggleable\"><input class=\"sk-toggleable__control sk-hidden--visually\" id=\"sk-estimator-id-4\" type=\"checkbox\" checked><label for=\"sk-estimator-id-4\" class=\"sk-toggleable__label sk-toggleable__label-arrow\">KNeighborsClassifier</label><div class=\"sk-toggleable__content\"><pre>KNeighborsClassifier()</pre></div></div></div></div></div>"
      ],
      "text/plain": [
       "KNeighborsClassifier()"
      ]
     },
     "execution_count": 70,
     "metadata": {},
     "output_type": "execute_result"
    }
   ],
   "source": [
    "#\n",
    "# Implement KNeighborsClassifier. \n",
    "#\n",
    "knn = KNeighborsClassifier(n_neighbors=5)\n",
    "knn.fit(data_train, label_train) "
   ]
  },
  {
   "cell_type": "code",
   "execution_count": 71,
   "metadata": {},
   "outputs": [
    {
     "name": "stdout",
     "output_type": "stream",
     "text": [
      "0.9619047619047619\n"
     ]
    }
   ],
   "source": [
    "#\n",
    "# Calculate + Print the accuracy of the testing set (data_test and\n",
    "# label_test).\n",
    "#\n",
    "#\n",
    "print(knn.score(data_test, label_test))\n",
    "\n",
    "# isomap: 0.961904761905\n",
    "# pca: 0.571428571429"
   ]
  },
  {
   "cell_type": "code",
   "execution_count": 72,
   "metadata": {},
   "outputs": [],
   "source": [
    "matplotlib.style.use('ggplot') # Look Pretty\n",
    "\n",
    "\n",
    "def Plot2DBoundary(model, DTrain, LTrain, DTest, LTest):\n",
    "  # The dots are training samples (img not drawn), and the pics are testing samples (images drawn)\n",
    "  # Play around with the K values. This is very controlled dataset so it \n",
    "  # should be able to get perfect classification on testing entries\n",
    "\n",
    "  fig = plt.figure(figsize=(9,8))\n",
    "  ax = fig.add_subplot(111)\n",
    "  ax.set_title('Transformed Boundary, Image Space -> 2D')\n",
    "\n",
    "  padding = 0.1   # Zoom out\n",
    "  resolution = 1  # Don't get too detailed; smaller values (finer rez) will take longer to compute\n",
    "  colors = ['blue','green','orange','red']\n",
    "  \n",
    "\n",
    "  # ------\n",
    "\n",
    "  # Calculate the boundaries of the mesh grid. The mesh grid is\n",
    "  # a standard grid (think graph paper), where each point will be\n",
    "  # sent to the classifier (KNeighbors) to predict what class it\n",
    "  # belongs to. This is why KNeighbors has to be trained against\n",
    "  # 2D data, so we can produce this countour. Once we have the \n",
    "  # label for each point on the grid, we can color it appropriately\n",
    "  # and plot it.\n",
    "  x_min, x_max = DTrain[:, 0].min(), DTrain[:, 0].max()\n",
    "  y_min, y_max = DTrain[:, 1].min(), DTrain[:, 1].max()\n",
    "  x_range = x_max - x_min\n",
    "  y_range = y_max - y_min\n",
    "  x_min -= x_range * padding\n",
    "  y_min -= y_range * padding\n",
    "  x_max += x_range * padding\n",
    "  y_max += y_range * padding\n",
    "\n",
    "  # Using the boundaries, actually make the 2D Grid Matrix:\n",
    "  xx, yy = np.meshgrid(np.arange(x_min, x_max, resolution),\n",
    "                       np.arange(y_min, y_max, resolution))\n",
    "\n",
    "  # What class does the classifier say about each spot on the chart?\n",
    "  # The values stored in the matrix are the predictions of the model\n",
    "  # at said location:\n",
    "  Z = model.predict(np.c_[xx.ravel(), yy.ravel()])\n",
    "  Z = Z.reshape(xx.shape)\n",
    "\n",
    "  # Plot the mesh grid as a filled contour plot:\n",
    "  ax.contourf(xx, yy, Z, cmap=plt.cm.terrain)\n",
    "\n",
    "\n",
    "  # ------\n",
    "\n",
    "  # When plotting the testing images, used to validate if the algorithm\n",
    "  # is functioning correctly, size them as 5% of the overall chart size\n",
    "  x_size = x_range * 0.05\n",
    "  y_size = y_range * 0.05\n",
    "  \n",
    "  # First, plot the images in the TEST dataset\n",
    "  img_num = 0\n",
    "  for index in LTest.index:\n",
    "    # DTest is a regular NDArray, so you'll iterate over that 1 at a time.\n",
    "    x0, y0 = DTest[img_num,0]-x_size/2., DTest[img_num,1]-y_size/2.\n",
    "    x1, y1 = DTest[img_num,0]+x_size/2., DTest[img_num,1]+y_size/2.\n",
    "\n",
    "    # DTest = our images isomap-transformed into 2D. But we still want\n",
    "    # to plot the original image, so we look to the original, untouched\n",
    "    # dataset (at index) to get the pixels:\n",
    "    img = df.iloc[index,:].values.reshape(num_pixels, num_pixels)\n",
    "    ax.imshow(img, aspect='auto', cmap=plt.cm.gray, interpolation='nearest', zorder=100000, extent=(x0, x1, y0, y1), alpha=0.8)\n",
    "    img_num += 1\n",
    "\n",
    "\n",
    "  # Plot the TRAINING points as well... as points rather than as images\n",
    "  for label in range(len(np.unique(LTrain))):\n",
    "    indices = np.where(LTrain == label)\n",
    "    ax.scatter(DTrain[indices, 0], DTrain[indices, 1], c=colors[label], alpha=0.8, marker='o')\n",
    "  "
   ]
  },
  {
   "cell_type": "code",
   "execution_count": null,
   "metadata": {},
   "outputs": [
    {
     "data": {
      "image/png": "[encoded data removed]",
      "text/plain": [
       "<Figure size 648x576 with 1 Axes>"
      ]
     },
     "metadata": {},
     "output_type": "display_data"
    }
   ],
   "source": [
    "# Chart the combined decision boundary, the training data as 2D plots, and\n",
    "# the testing data as small images so we can visually validate performance.\n",
    "Plot2DBoundary(knn, data_train, label_train, data_test, label_test)\n"
   ]
  },
  {
   "cell_type": "markdown",
   "metadata": {},
   "source": [
    "That's all for KNN! \n",
    "\n",
    "---\n",
    "\n",
    "## __Accuracy__ \n",
    "\n",
    "You’ve now learned many different ways to analyze the predictive power of your algorithm. Some of the key insights for this course include:\n",
    "\n",
    "- Classifying a single point can result in a true positive (truth = 1, guess = 1), a true negative (truth = 0, guess = 0), a false positive (truth = 0, guess = 1), or a false negative (truth = 1, guess = 0).\n",
    "- Accuracy measures how many classifications your algorithm got correct out of every classification it made.\n",
    "- Recall measures the percentage of the relevant items your classifier was able to successfully find.\n",
    "- Precision measures the percentage of items your classifier found that were actually relevant.\n",
    "- Precision and recall are tied to each other. As one goes up, the other will go down.\n",
    "- F1 score is a combination of precision and recall.\n",
    "- F1 score will be low if either precision or recall is low.\n",
    "\n",
    "The decision to use precision, recall, or F1 score ultimately comes down to the context of your classification. Maybe you don’t care if your classifier has a lot of false positives. If that’s the case, precision doesn’t matter as much.\n",
    "\n",
    "As long as you have an understanding of what question you’re trying to answer, you should be able to determine which statistic is most relevant to you."
   ]
  },
  {
   "cell_type": "code",
   "execution_count": 76,
   "metadata": {},
   "outputs": [
    {
     "name": "stdout",
     "output_type": "stream",
     "text": [
      "0.3\n",
      "0.42857142857142855\n",
      "0.5\n",
      "0.4615384615384615\n"
     ]
    }
   ],
   "source": [
    "labels = [1, 0, 0, 1, 1, 1, 0, 1, 1, 1]\n",
    "guesses = [0, 1, 1, 1, 1, 0, 1, 0, 1, 0]\n",
    "\n",
    "true_positives = 0\n",
    "true_negatives = 0\n",
    "false_positives = 0\n",
    "false_negatives = 0\n",
    "\n",
    "for i in range(len(guesses)):\n",
    "  #True Positives\n",
    "  if labels[i] == 1 and guesses[i] == 1:\n",
    "    true_positives += 1\n",
    "  #True Negatives\n",
    "  if labels[i] == 0 and guesses[i] == 0:\n",
    "    true_negatives += 1\n",
    "  #False Positives\n",
    "  if labels[i] == 0 and guesses[i] == 1:\n",
    "    false_positives += 1\n",
    "  #False Negatives\n",
    "  if labels[i] == 1 and guesses[i] == 0:\n",
    "    false_negatives += 1\n",
    "    \n",
    "accuracy = (true_positives + true_negatives) / len(guesses)\n",
    "print(accuracy)\n",
    "\n",
    "recall = true_positives / (true_positives + false_negatives)\n",
    "print(recall)\n",
    "\n",
    "precision = true_positives / (true_positives + false_positives)\n",
    "print(precision)\n",
    "\n",
    "f_1 = 2 * ((precision * recall) / (precision + recall))\n",
    "print(f_1)"
   ]
  }
 ],
 "metadata": {
  "interpreter": {
   "hash": "aee8b7b246df8f9039afb4144a1f6fd8d2ca17a180786b69acc140d282b71a49"
  },
  "kernelspec": {
   "display_name": "Python 3.10.4 64-bit",
   "language": "python",
   "name": "python3"
  },
  "language_info": {
   "codemirror_mode": {
    "name": "ipython",
    "version": 3
   },
   "file_extension": ".py",
   "mimetype": "text/x-python",
   "name": "python",
   "nbconvert_exporter": "python",
   "pygments_lexer": "ipython3",
   "version": "3.10.4"
  }
 },
 "nbformat": 4,
 "nbformat_minor": 2
}
