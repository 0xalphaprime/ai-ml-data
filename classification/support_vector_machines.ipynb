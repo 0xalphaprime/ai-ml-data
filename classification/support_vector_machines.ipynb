{
 "cells": [
  {
   "cell_type": "markdown",
   "metadata": {},
   "source": [
    "__Support Vector Machines__\n",
    "\n",
    "- SVMs are supervised machine learning models used for classification.\n",
    "\n",
    "- An SVM uses support vectors to define a decision boundary. Classifications are made by comparing unlabeled points to that decision boundary.\n",
    "\n",
    "- Support vectors are the points of each class closest to the decision boundary. The distance between the support vectors and the decision boundary is called the margin.\n",
    "\n",
    "- SVMs attempt to create the largest margin possible while staying within an acceptable amount of error.\n",
    "\n",
    "- The C parameter controls how much error is allowed. A large C allows for little error and creates a hard margin. A small C allows for more error and creates a soft margin.\n",
    "\n",
    "- SVMs use kernels to classify points that aren’t linearly separable.\n",
    "\n",
    "- Kernels transform points into higher dimensional space. A polynomial kernel transforms points into three dimensions while an rbf kernel transforms points into infinite dimensions.\n",
    "\n",
    "- An rbf kernel has a gamma parameter. If gamma is large, the training data is more relevant, and as a result overfitting can occur.\n",
    "\n",
    "```python\n",
    "\n",
    "from data import points, labels\n",
    "from sklearn.model_selection import train_test_split\n",
    "from sklearn.svm import SVC\n",
    "\n",
    "training_data, validation_data, training_labels, validation_labels = train_test_split(points, labels, train_size = 0.8, test_size = 0.2, random_state = 100)\n",
    "\n",
    "classifier = SVC(kernel = \"rbf\", gamma = 1)\n",
    "classifier.fit(training_data, training_labels)\n",
    "print(classifier.score(validation_data, validation_labels))\n",
    "\n",
    "```\n",
    "\n",
    "While creating a SVC(classifier), you will selecta specified kernal:\n",
    "\n",
    "- `classifier = SVC(kernal = \"linear\")`\n",
    "- `classifier = SVC(kernal = \"poly\" <kernal options>)`\n",
    "- `classifier = SVC(kernal = \"rbf\", gamma = <value>)`"
   ]
  }
 ],
 "metadata": {
  "language_info": {
   "name": "python"
  },
  "orig_nbformat": 4
 },
 "nbformat": 4,
 "nbformat_minor": 2
}
