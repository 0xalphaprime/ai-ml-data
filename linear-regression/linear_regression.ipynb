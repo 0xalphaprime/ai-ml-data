{
 "cells": [
  {
   "cell_type": "code",
   "execution_count": 2,
   "metadata": {},
   "outputs": [],
   "source": [
    "import seaborn as sns\n",
    "from sklearn.linear_model import LinearRegression\n",
    "import matplotlib.pyplot as plt\n",
    "import numpy as np"
   ]
  },
  {
   "cell_type": "code",
   "execution_count": 3,
   "metadata": {},
   "outputs": [
    {
     "data": {
      "image/png": "[encoded data removed]",
      "text/plain": [
       "<Figure size 432x288 with 1 Axes>"
      ]
     },
     "metadata": {
      "needs_background": "light"
     },
     "output_type": "display_data"
    }
   ],
   "source": [
    "temperature = np.array(range(60, 100, 2))\n",
    "temperature = temperature.reshape(-1, 1)\n",
    "sales = [65, 58, 46, 45, 44, 42, 40, 40, 36, 38, 38, 28, 30, 22, 27, 25, 25, 20, 15, 5]\n",
    "\n",
    "plt.plot(temperature, sales, 'o')\n",
    "\n",
    "line_fitter = LinearRegression()\n",
    "line_fitter.fit(temperature, sales)\n",
    "sales_predict = line_fitter.predict(temperature)\n",
    "\n",
    "plt.plot(temperature, sales_predict)\n",
    "plt.show()"
   ]
  },
  {
   "cell_type": "markdown",
   "metadata": {},
   "source": [
    "---"
   ]
  },
  {
   "cell_type": "markdown",
   "metadata": {},
   "source": [
    "# __HONEY PRODUCTION PROJECT__ "
   ]
  },
  {
   "cell_type": "code",
   "execution_count": 9,
   "metadata": {},
   "outputs": [
    {
     "name": "stdout",
     "output_type": "stream",
     "text": [
      "   state    numcol  yieldpercol   totalprod      stocks  priceperlb  \\\n",
      "0     AL   16000.0           71   1136000.0    159000.0        0.72   \n",
      "1     AZ   55000.0           60   3300000.0   1485000.0        0.64   \n",
      "2     AR   53000.0           65   3445000.0   1688000.0        0.59   \n",
      "3     CA  450000.0           83  37350000.0  12326000.0        0.62   \n",
      "4     CO   27000.0           72   1944000.0   1594000.0        0.70   \n",
      "5     FL  230000.0           98  22540000.0   4508000.0        0.64   \n",
      "6     GA   75000.0           56   4200000.0    307000.0        0.69   \n",
      "7     HI    8000.0          118    944000.0     66000.0        0.77   \n",
      "8     ID  120000.0           50   6000000.0   2220000.0        0.65   \n",
      "9     IL    9000.0           71    639000.0    204000.0        1.19   \n",
      "10    IN    9000.0           92    828000.0    489000.0        0.85   \n",
      "11    IA   50000.0           78   3900000.0   2301000.0        0.70   \n",
      "12    KS   16000.0           46    736000.0    390000.0        0.87   \n",
      "13    KY    3000.0           50    150000.0     51000.0        1.40   \n",
      "14    LA   41000.0          111   4551000.0    865000.0        0.59   \n",
      "15    ME   10000.0           26    260000.0    117000.0        0.69   \n",
      "16    MD    7000.0           44    308000.0     92000.0        1.10   \n",
      "17    MI   80000.0           85   6800000.0   3672000.0        0.66   \n",
      "18    MN  140000.0           79  11060000.0   2765000.0        0.65   \n",
      "19    MS   18000.0           86   1548000.0    898000.0        0.58   \n",
      "\n",
      "     prodvalue  year  \n",
      "0     818000.0  1998  \n",
      "1    2112000.0  1998  \n",
      "2    2033000.0  1998  \n",
      "3   23157000.0  1998  \n",
      "4    1361000.0  1998  \n",
      "5   14426000.0  1998  \n",
      "6    2898000.0  1998  \n",
      "7     727000.0  1998  \n",
      "8    3900000.0  1998  \n",
      "9     760000.0  1998  \n",
      "10    704000.0  1998  \n",
      "11   2730000.0  1998  \n",
      "12    640000.0  1998  \n",
      "13    210000.0  1998  \n",
      "14   2685000.0  1998  \n",
      "15    179000.0  1998  \n",
      "16    339000.0  1998  \n",
      "17   4488000.0  1998  \n",
      "18   7189000.0  1998  \n",
      "19    898000.0  1998  \n"
     ]
    }
   ],
   "source": [
    "import seaborn as sns\n",
    "import pandas as pd\n",
    "import matplotlib.pyplot as plt\n",
    "import numpy as np\n",
    "from sklearn import linear_model\n",
    "\n",
    "df = pd.read_csv(\"/Users/hiro0x/Documents/alphaprime/ai-ml-data/linear-regression/honeyproduction.csv\")\n",
    "\n",
    "print(df.head(20))"
   ]
  },
  {
   "cell_type": "markdown",
   "metadata": {},
   "source": [
    "__EX below of using `.groupby()` method provided by pandas__\n",
    "\n",
    "Specifically, this looks at the total production of honey per year:"
   ]
  },
  {
   "cell_type": "code",
   "execution_count": 11,
   "metadata": {},
   "outputs": [
    {
     "name": "stdout",
     "output_type": "stream",
     "text": [
      "   year     totalprod\n",
      "0  1998  5.105093e+06\n",
      "1  1999  4.706674e+06\n",
      "2  2000  5.106000e+06\n",
      "3  2001  4.221545e+06\n",
      "4  2002  3.892386e+06\n"
     ]
    }
   ],
   "source": [
    "prod_per_year = df.groupby('year').totalprod.mean().reset_index()\n",
    "\n",
    "print(prod_per_year.head())"
   ]
  },
  {
   "cell_type": "markdown",
   "metadata": {},
   "source": [
    "{INSERT LISTING OF THE VARIOUS ARGUMENTS THAT CAN BE USED OFF OF THE GROUP BY METHOD}"
   ]
  },
  {
   "cell_type": "code",
   "execution_count": 13,
   "metadata": {},
   "outputs": [
    {
     "data": {
      "image/png": "[encoded data removed]",
      "text/plain": [
       "<Figure size 432x288 with 1 Axes>"
      ]
     },
     "metadata": {
      "needs_background": "light"
     },
     "output_type": "display_data"
    }
   ],
   "source": [
    "X = prod_per_year['year']\n",
    "X = X.values.reshape(-1,1)\n",
    "\n",
    "y = prod_per_year['totalprod']\n",
    "\n",
    "plt.scatter(X,y)\n",
    "plt.show()\n"
   ]
  },
  {
   "cell_type": "code",
   "execution_count": 19,
   "metadata": {},
   "outputs": [
    {
     "name": "stdout",
     "output_type": "stream",
     "text": [
      "-88303.18915238195\n"
     ]
    },
    {
     "data": {
      "image/png": "[encoded data removed]",
      "text/plain": [
       "<Figure size 432x288 with 1 Axes>"
      ]
     },
     "metadata": {
      "needs_background": "light"
     },
     "output_type": "display_data"
    }
   ],
   "source": [
    "linear_reg = LinearRegression()\n",
    "\n",
    "linear_reg.fit(X,y)\n",
    "\n",
    "print(linear_reg.coef_[0])\n",
    "\n",
    "y_predict = linear_reg.predict(X)\n",
    "\n",
    "plt.plot(X, y_predict)\n",
    "plt.show()"
   ]
  },
  {
   "cell_type": "markdown",
   "metadata": {},
   "source": [
    "---"
   ]
  },
  {
   "cell_type": "markdown",
   "metadata": {},
   "source": [
    "## __Training Set vs Validation Set vs Test Set__\n",
    "\n",
    "__Supervised Machine Learning__ (vs Unsuperised classification of ML)\n",
    "\n",
    "The training set is the data that the algorithm will learn from. Learning looks different depending on which algorithm you are using. For example, when using Linear Regression, the points in the training set are used to draw the line of best fit. In K-Nearest Neighbors, the points in the training set are the points that could be the neighbors.\n",
    "\n",
    "After training using the training set, the points in the validation set are used to compute the accuracy or error of the classifier.\n",
    "\n",
    "Once you’re happy with your model’s performance, it is time to introduce the test set. This is part of your data that you partitioned away at the very start of your experiment. It’s meant to be a substitute for the data in the real world that you’re actually interested in classifying. It functions very similarly to the validation set, except you never touched this data while building or tuning your model. By finding the accuracy, precision, recall, and F1 score on the test set, you get a good understanding of how well your algorithm will do in the real world.\n",
    "\n",
    "In general, putting 80% of your data in the training set and 20% of your data in the test set is a good place to start.\n",
    "\n",
    "---"
   ]
  },
  {
   "cell_type": "markdown",
   "metadata": {},
   "source": [
    "## __MULTIPLE LINEAR REGRESSION__\n",
    "\n",
    "__Multiple Linear Regression__ uses two or more independent variables to predict the values of the dependent variable. It is based on the following equation that we’ll explore later on:\n",
    "\n",
    "y = b + m_{1}x_{1} + m_{2}x_{2} + ... + m_{n}x_{n}\n",
    "\n",
    "---\n",
    "\n",
    "### Visualizing Results \n",
    "\n",
    "__residual e__ the difference between the actual value y and the predicted value ŷ { e = y - ŷ }\n",
    "\n"
   ]
  },
  {
   "cell_type": "code",
   "execution_count": 27,
   "metadata": {},
   "outputs": [
    {
     "data": {
      "image/png": "[encoded data removed]",
      "text/plain": [
       "<Figure size 432x288 with 1 Axes>"
      ]
     },
     "metadata": {
      "needs_background": "light"
     },
     "output_type": "display_data"
    }
   ],
   "source": [
    "# new library to import \n",
    "from sklearn.model_selection import train_test_split\n",
    "\n",
    "streeteasy = pd.read_csv(\"/Users/hiro0x/Documents/alphaprime/ai-ml-data/linear-regression/nyc_apts.csv\")\n",
    "\n",
    "df = pd.DataFrame(streeteasy)\n",
    "\n",
    "x = df[['bedrooms', 'bathrooms', 'size_sqft', 'min_to_subway', 'floor', 'building_age_yrs', 'no_fee', 'has_roofdeck', 'has_washer_dryer', 'has_doorman', 'has_elevator', 'has_dishwasher', 'has_patio', 'has_gym']]\n",
    "\n",
    "y = df[['rent']]\n",
    "\n",
    "x_train, x_test, y_train, y_test = train_test_split(x, y, train_size = 0.8, test_size = 0.2, random_state=6)\n",
    "\n",
    "lm = LinearRegression()\n",
    "\n",
    "model=lm.fit(x_train, y_train)\n",
    "\n",
    "y_predict = lm.predict(x_test)\n",
    "\n",
    "plt.xlabel(\"Prices: $Y_i$\")\n",
    "plt.ylabel(\"Predicted prices: $\\hat{Y}_i$\")\n",
    "plt.title(\"Actual Rent vs Predicted Rent\")\n",
    "\n",
    "plt.scatter(y_test, y_predict)\n",
    "plt.show()\n",
    "\n",
    "# this plot will show the predicted price (y-axis) vs the price (x-axis)\n",
    "\n",
    "\n",
    "\n"
   ]
  },
  {
   "cell_type": "code",
   "execution_count": 33,
   "metadata": {},
   "outputs": [
    {
     "name": "stdout",
     "output_type": "stream",
     "text": [
      "Train score:\n",
      "0.7725460559817883\n",
      "Test score:\n",
      "0.8050371975357635\n"
     ]
    },
    {
     "data": {
      "image/png": "[encoded data removed]",
      "text/plain": [
       "<Figure size 432x288 with 1 Axes>"
      ]
     },
     "metadata": {
      "needs_background": "light"
     },
     "output_type": "display_data"
    },
    {
     "name": "stdout",
     "output_type": "stream",
     "text": [
      "[[2592.38438399]]\n"
     ]
    },
    {
     "name": "stderr",
     "output_type": "stream",
     "text": [
      "/Library/Frameworks/Python.framework/Versions/3.10/lib/python3.10/site-packages/sklearn/base.py:450: UserWarning: X does not have valid feature names, but LinearRegression was fitted with feature names\n",
      "  warnings.warn(\n"
     ]
    }
   ],
   "source": [
    "# adding another library\n",
    "\n",
    "from sklearn.metrics import mean_squared_error\n",
    "\n",
    "df = pd.DataFrame(streeteasy)\n",
    "\n",
    "x = df[['bedrooms', 'bathrooms', 'size_sqft', 'min_to_subway', 'floor', 'building_age_yrs', 'no_fee', 'has_roofdeck', 'has_washer_dryer', 'has_doorman', 'has_elevator', 'has_dishwasher', 'has_patio', 'has_gym']]\n",
    "\n",
    "y = df[['rent']]\n",
    "\n",
    "x_train, x_test, y_train, y_test = train_test_split(x, y, train_size = 0.8, test_size = 0.2, random_state=6)\n",
    "\n",
    "lm = LinearRegression()\n",
    "\n",
    "model = lm.fit(x_train, y_train)\n",
    "\n",
    "y_predict= lm.predict(x_test)\n",
    "\n",
    "print(\"Train score:\")\n",
    "print(lm.score(x_train, y_train))\n",
    "\n",
    "print(\"Test score:\")\n",
    "print(lm.score(x_test, y_test))\n",
    "\n",
    "plt.scatter(y_test, y_predict)\n",
    "plt.plot(range(20000), range(20000))\n",
    "\n",
    "plt.xlabel(\"Prices: $Y_i$\")\n",
    "plt.ylabel(\"Predicted prices: $\\hat{Y}_i$\")\n",
    "plt.title(\"Actual Rent vs Predicted Rent\")\n",
    "\n",
    "plt.show()\n",
    "\n",
    "zoe_apartment = [[1, 1, 620, 16, 1, 98, 0, 0, 1, 0, 0, 0, 1, 0]]\n",
    "predict = model.predict(zoe_apartment)\n",
    "print(predict)"
   ]
  },
  {
   "cell_type": "markdown",
   "metadata": {},
   "source": [
    "---"
   ]
  },
  {
   "cell_type": "markdown",
   "metadata": {},
   "source": [
    "## __K-Nearest Neighbors (KNN)__ \n",
    "\n",
    "KNN is a classification algorithm"
   ]
  },
  {
   "cell_type": "code",
   "execution_count": 35,
   "metadata": {},
   "outputs": [
    {
     "name": "stdout",
     "output_type": "stream",
     "text": [
      "10.770329614269007\n",
      "38.897300677553446\n"
     ]
    }
   ],
   "source": [
    "# minutes of movie anf year released\n",
    "\n",
    "star_wars = [125, 1977]\n",
    "raiders = [115, 1981]\n",
    "mean_girls = [97, 2004]\n",
    "\n",
    "def distance(movie1, movie2):\n",
    "  length_difference = (movie1[0] - movie2[0]) ** 2\n",
    "  year_difference = (movie1[1] - movie2[1]) ** 2\n",
    "  distance = (length_difference + year_difference) ** 0.5\n",
    "  return distance\n",
    "\n",
    "print(distance(star_wars, raiders))\n",
    "print(distance(star_wars, mean_girls))"
   ]
  },
  {
   "cell_type": "code",
   "execution_count": 36,
   "metadata": {},
   "outputs": [
    {
     "name": "stdout",
     "output_type": "stream",
     "text": [
      "7000000.000008286\n",
      "6000000.000126083\n"
     ]
    }
   ],
   "source": [
    "# with multiple dimensions \n",
    "# time, year, budget\n",
    "\n",
    "star_wars = [125, 1977, 11000000]\n",
    "raiders = [115, 1981, 18000000]\n",
    "mean_girls = [97, 2004, 17000000]\n",
    "\n",
    "def distance(movie1, movie2):\n",
    "  squared_difference = 0\n",
    "  for i in range(len(movie1)):\n",
    "    squared_difference += (movie1[i] - movie2[i]) ** 2\n",
    "  final_distance = squared_difference ** 0.5\n",
    "  return final_distance\n",
    "\n",
    "print(distance(star_wars, raiders))\n",
    "print(distance(star_wars, mean_girls))"
   ]
  },
  {
   "cell_type": "markdown",
   "metadata": {},
   "source": [
    "### __NORMALIZATION__ \n",
    "\n",
    "Normalization is the idea of normalizing the data to similar numbers, so that differences in larger numbers do not unintentionally outweigh the other parameters. \n",
    "\n",
    "__Min-Max Normaliztion__\n",
    "\n",
    "(uint - min)/(max-min)"
   ]
  },
  {
   "cell_type": "code",
   "execution_count": 37,
   "metadata": {},
   "outputs": [
    {
     "name": "stdout",
     "output_type": "stream",
     "text": [
      "[0.047619047619047616, 0.8492063492063492, 0.8650793650793651, 0.4523809523809524, 0.5634920634920635, 0.46825396825396826, 0.6666666666666666, 0.5476190476190477, 1.0, 0.36507936507936506, 0.6111111111111112, 0.8333333333333334, 0.42063492063492064, 0.0, 0.8253968253968254, 0.4523809523809524, 0.9523809523809523, 0.5873015873015873, 0.0, 0.6904761904761905]\n"
     ]
    }
   ],
   "source": [
    "release_dates = [1897.0, 1998.0, 2000.0, 1948.0, 1962.0, 1950.0, 1975.0, 1960.0, 2017.0, 1937.0, 1968.0, 1996.0, 1944.0, 1891.0, 1995.0, 1948.0, 2011.0, 1965.0, 1891.0, 1978.0]\n",
    "\n",
    "def min_max_normalize(lst):\n",
    "  minimum = min(lst)\n",
    "  maximum = max(lst)\n",
    "  normalized = []\n",
    "  \n",
    "  for value in lst:\n",
    "    normalized_num = (value - minimum) / (maximum - minimum)\n",
    "    normalized.append(normalized_num)\n",
    "  \n",
    "  return normalized\n",
    "\n",
    "print(min_max_normalize(release_dates))"
   ]
  },
  {
   "cell_type": "code",
   "execution_count": null,
   "metadata": {},
   "outputs": [],
   "source": [
    "from movies import movie_dataset, labels\n",
    "from sklearn.neighbors import KNeighborsClassifier\n",
    "\n",
    "classifier = KNeighborsClassifier(n_neighbors = 5)\n",
    "classifier.fit(movie_dataset, labels)\n",
    "guess = classifier.predict([[.45, .2, .5], [.25, .8, .9],[.1, .1, .9]])\n",
    "print(guess)"
   ]
  },
  {
   "cell_type": "markdown",
   "metadata": {},
   "source": [
    "### __Major Takeaways__\n",
    "\n",
    "- Data with n features can be conceptualized as points lying in n-dimensional space.\n",
    "\n",
    "- Data points can be compared by using the distance formula. Data points that are similar will have a smaller distance between them.\n",
    "\n",
    "- A point with an unknown class can be classified by finding the k nearest neighbors\n",
    "\n",
    "- To verify the effectiveness of a classifier, data with known classes can be split into a training set and a validation set. Validation error can then be calculated.\n",
    "\n",
    "- Classifiers have parameters that can be tuned to increase their effectiveness. In the case of K-Nearest Neighbors, k can be changed.\n",
    "\n",
    "- A classifier can be trained improperly and suffer from overfitting or underfitting. In the case of K-Nearest Neighbors, a low k often leads to overfitting and a large k often leads to underfitting.\n",
    "\n",
    "- Python’s sklearn library can be used for many classification and machine learning algorithms.\n"
   ]
  }
 ],
 "metadata": {
  "interpreter": {
   "hash": "aee8b7b246df8f9039afb4144a1f6fd8d2ca17a180786b69acc140d282b71a49"
  },
  "kernelspec": {
   "display_name": "Python 3.10.4 64-bit",
   "language": "python",
   "name": "python3"
  },
  "language_info": {
   "codemirror_mode": {
    "name": "ipython",
    "version": 3
   },
   "file_extension": ".py",
   "mimetype": "text/x-python",
   "name": "python",
   "nbconvert_exporter": "python",
   "pygments_lexer": "ipython3",
   "version": "3.10.4"
  },
  "orig_nbformat": 4
 },
 "nbformat": 4,
 "nbformat_minor": 2
}
